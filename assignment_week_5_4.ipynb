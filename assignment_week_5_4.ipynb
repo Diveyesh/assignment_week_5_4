{
  "nbformat": 4,
  "nbformat_minor": 0,
  "metadata": {
    "colab": {
      "provenance": []
    },
    "kernelspec": {
      "name": "python3",
      "display_name": "Python 3"
    },
    "language_info": {
      "name": "python"
    }
  },
  "cells": [
    {
      "cell_type": "markdown",
      "source": [
        "#Submitted by - Diveyesh\n"
      ],
      "metadata": {
        "id": "45mxyTTna7-C"
      }
    },
    {
      "cell_type": "markdown",
      "source": [
        "#Question - 1"
      ],
      "metadata": {
        "id": "x4hGT6UGbFmA"
      }
    },
    {
      "cell_type": "code",
      "source": [
        "# Multiprocessing is a module that allows to leverage multiple processors or CPU cores to execute tasks concurrently.\n",
        "# It provides an interface to create and manage multiple processes, each running in its own separate memory space.\n",
        "# It allows for parallel execution of code, which can significantly improve the performance and efficiency of certain types of programs."
      ],
      "metadata": {
        "id": "7RqNz3f2a8hQ"
      },
      "execution_count": null,
      "outputs": []
    },
    {
      "cell_type": "code",
      "execution_count": null,
      "metadata": {
        "id": "_whCbkHua3wI"
      },
      "outputs": [],
      "source": [
        "# Benefits of Multiprocessing are:\n",
        "# Increased Performance\n",
        "# Improved Responsiveness\n",
        "# Parallelism and Concurrency\n",
        "# Resource Isolation\n",
        "# Fault Tolerance"
      ]
    },
    {
      "cell_type": "markdown",
      "source": [
        "#Question -2"
      ],
      "metadata": {
        "id": "WIwr7x4egmbB"
      }
    },
    {
      "cell_type": "code",
      "source": [
        "# Multiprocessing\n",
        "# In Multiprocessing, CPUs are added for increasing computing power.\n",
        "# In Multiprocessing, Many processes are executed simultaneously.\n",
        "# Multiprocessing are classified into Symmetric and Asymmetric.\n",
        "# In Multiprocessing, Process creation is a time-consuming process.\n",
        "# In Multiprocessing, every process owned a separate address space."
      ],
      "metadata": {
        "id": "w9WNrScRbKCf"
      },
      "execution_count": null,
      "outputs": []
    },
    {
      "cell_type": "code",
      "source": [
        "# Multithreading\n",
        "# In Multithreading, many threads are created of a single process for increasing computing power.\n",
        "# In multithreading, many threads of a process are executed simultaneously.\n",
        "# Multithreading is not classified in any categories\n",
        "# In Multithreading, process creation is according to economical.\n",
        "# In Multithreading, a common address space is shared by all the threads."
      ],
      "metadata": {
        "id": "tYIQfUddbJ_W"
      },
      "execution_count": null,
      "outputs": []
    },
    {
      "cell_type": "markdown",
      "source": [
        "#Question - 3"
      ],
      "metadata": {
        "id": "oLVXSV72vR-k"
      }
    },
    {
      "cell_type": "code",
      "source": [
        "import multiprocessing\n",
        "\n",
        "def class_show(standard):\n",
        "  print(f\"You study in {standard} standard\")\n",
        "\n",
        "if __name__ == \"__main__\":\n",
        "  m = multiprocessing.Process(target = class_show, args = (\"tenth\",))\n",
        "  print(\"This will be printed first\")\n",
        "  m.start()\n",
        "  m.join()"
      ],
      "metadata": {
        "id": "TRfLr8CQbJ8Z",
        "colab": {
          "base_uri": "https://localhost:8080/"
        },
        "outputId": "f78e62d6-e6c5-4e85-cf84-8dfb25f87dfd"
      },
      "execution_count": 3,
      "outputs": [
        {
          "output_type": "stream",
          "name": "stdout",
          "text": [
            "This will be printed first\n",
            "You study in tenth standard\n"
          ]
        }
      ]
    },
    {
      "cell_type": "markdown",
      "source": [
        "#Question - 4"
      ],
      "metadata": {
        "id": "dL_RFXSYxaCd"
      }
    },
    {
      "cell_type": "code",
      "source": [
        "#The multiprocessing pool in Python is a part of the multiprocessing module that allows for parallel execution\n",
        "# of tasks across multiple processors or CPU cores. It provides a convenient way to distribute the workload\n",
        "#and speed up the execution of CPU-bound or computationally intensive tasks."
      ],
      "metadata": {
        "id": "NhKbNSGebJ3T"
      },
      "execution_count": null,
      "outputs": []
    },
    {
      "cell_type": "code",
      "source": [
        "# The primary purpose of using a multiprocessing pool is to take advantage of multiple processors or cores to perform tasks concurrently.\n",
        "#By dividing the workload among multiple processes, you can achieve parallelism and potentially reduce the overall execution time."
      ],
      "metadata": {
        "id": "VRGynSXbbJ0_"
      },
      "execution_count": null,
      "outputs": []
    },
    {
      "cell_type": "code",
      "source": [
        "# The benefits of multiprocessing pool are as follows:-\n",
        "# Parallel Execution\n",
        "# Pool of Workers\n",
        "# Improved Performance\n",
        "# Simplified Interface\n",
        "# Task Synchronization\n",
        "\n"
      ],
      "metadata": {
        "id": "9FOXe4ARbJxz"
      },
      "execution_count": null,
      "outputs": []
    },
    {
      "cell_type": "markdown",
      "source": [
        "#Question - 5"
      ],
      "metadata": {
        "id": "-urALFLTygQr"
      }
    },
    {
      "cell_type": "code",
      "source": [
        "import multiprocessing\n",
        "\n",
        "def square(n):\n",
        "  return n**2\n",
        "\n",
        "if __name__ == \"__main__\":\n",
        "  with multiprocessing.Pool(processes = 4) as pool:\n",
        "    out = pool.map(square,[1,2,3,4,5,6,7,8,9])\n",
        "    print(out)"
      ],
      "metadata": {
        "id": "pE_4zIE1bJuk",
        "colab": {
          "base_uri": "https://localhost:8080/"
        },
        "outputId": "910221e4-20b8-48df-c562-e2721c08edc2"
      },
      "execution_count": 5,
      "outputs": [
        {
          "output_type": "stream",
          "name": "stdout",
          "text": [
            "[1, 4, 9, 16, 25, 36, 49, 64, 81]\n"
          ]
        }
      ]
    },
    {
      "cell_type": "markdown",
      "source": [
        "#Question - 6"
      ],
      "metadata": {
        "id": "Jm_bXFDyAtb3"
      }
    },
    {
      "cell_type": "code",
      "source": [
        "import multiprocessing\n",
        "\n",
        "def print_number(n):\n",
        "  print(n)\n",
        "\n",
        "if __name__ == \"__main__\":\n",
        "  list_number = []\n",
        "  for i in range(1,5):\n",
        "    m = multiprocessing.Process(target = print_number, args = (i,))\n",
        "    list_number.append(m)\n",
        "\n",
        "  for m in list_number:\n",
        "    m.start()\n",
        "\n",
        "  for m in list_number:\n",
        "    m.join()\n",
        "\n"
      ],
      "metadata": {
        "id": "eSWqUPxobJmY",
        "colab": {
          "base_uri": "https://localhost:8080/"
        },
        "outputId": "9bde9c94-f1be-421f-842c-3b76dfb04509"
      },
      "execution_count": 22,
      "outputs": [
        {
          "output_type": "stream",
          "name": "stdout",
          "text": [
            "1\n",
            "2\n",
            "3\n",
            "4\n"
          ]
        }
      ]
    }
  ]
}